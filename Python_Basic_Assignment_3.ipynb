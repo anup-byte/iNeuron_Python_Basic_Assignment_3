{
 "cells": [
  {
   "cell_type": "markdown",
   "metadata": {},
   "source": [
    "Q1. Why are functions advantageous to have in your programs?\n",
    "\n",
    "Ans: \n",
    "     1)It helps to divide the large programs into small groups so that we can read the code and debug then              program faster and better\n",
    "     2) Functions stop us from writing the same logic again and again. We can create the logic in one function          and call the function whenever we require.\n",
    "     3)Many persons can work on the same program by assigning different methods to the function.\n",
    "     4)In short, Functions reduce the need for duplicate code. This makes programs shorter, easier to read, and        easier to update.\n",
    "       "
   ]
  },
  {
   "cell_type": "markdown",
   "metadata": {},
   "source": [
    "Q2.When does the code in a function run: when it is specified or when it is called?\n",
    "\n",
    "Ans: The code in a function executes when the function is called, not when the function is defined.\n",
    "    "
   ]
  },
  {
   "cell_type": "markdown",
   "metadata": {},
   "source": [
    "Q3. What statement creates a function?\n",
    "\n",
    "Ans: In Python we define a function with the def keyword, then we write the function identifier(name) followed \n",
    "      by parentheses and a colon.\n",
    "     The next thing we have to do is to make sure we indent with a tab or 4 spaces, and then specify what we          want the function to do.\n",
    "     \n",
    "     def functionName():\n",
    "    \n",
    "\n",
    "     Basic Example of Function in Python:\n",
    "     Following the basic syntax above, an example of a basic Python function printing \"Hello World\" to the            terminal looks like this:          "
   ]
  },
  {
   "cell_type": "code",
   "execution_count": 1,
   "metadata": {},
   "outputs": [],
   "source": [
    "def myfunction():\n",
    "    print(\"Hello World\")"
   ]
  },
  {
   "cell_type": "markdown",
   "metadata": {},
   "source": [
    "To call this function, we write the name of the function followed by parentheses:"
   ]
  },
  {
   "cell_type": "code",
   "execution_count": 2,
   "metadata": {},
   "outputs": [
    {
     "name": "stdout",
     "output_type": "stream",
     "text": [
      "Hello World\n"
     ]
    }
   ],
   "source": [
    "myfunction()"
   ]
  },
  {
   "cell_type": "markdown",
   "metadata": {},
   "source": [
    "Q4.What is the difference between a function and a function call?\n",
    "\n",
    "Ans: A function is a block of code that does a particular operation and returns a result. It usually                  accepts inputs as parameters and returns a result. The parameters are not mandatory.\n",
    "     \n",
    "     E.g:\n",
    "     Function add(a,b)\n",
    "     return a+ b\n",
    "\n",
    "     A function call is the code used to pass control to a function.\n",
    "\n",
    "     E.g:\n",
    "\n",
    "     b = add(5,6)\n",
    "\n",
    "     Now b will have the value 11.\n",
    " "
   ]
  },
  {
   "cell_type": "markdown",
   "metadata": {},
   "source": [
    "Q5.How many global scopes are there in a Python program? How many local scopes?\n",
    "\n",
    "Ans: During execution of the python code, we have at most four active Python scopes—local, enclosing, global,        and built-in—depending on where we are in the code. On the other hand, we'll always have at least two            active scopes, which are the global and built-in scopes."
   ]
  },
  {
   "cell_type": "markdown",
   "metadata": {},
   "source": [
    "Q6. What happens to variables in a local scope when the function call returns?\n",
    "\n",
    "Ans:For every function call a stack frame is created inside stack where memory for all variables will be \n",
    "    allocated. When the function completes its execution corresponding stack frame will be destroyed including\n",
    "    its local variables."
   ]
  },
  {
   "cell_type": "markdown",
   "metadata": {},
   "source": [
    "Q7.What is the concept of a return value? Is it possible to have a return value in an expression?\n",
    "\n",
    "Ans:A return statement is used to end the execution of the function call and “returns” the result (value of the     expression following the return keyword) to the caller. The statements after the return statements are not       executed. If the return statement is without any expression, then the special value None is returned. A         return statement is overall used to invoke a function so that the passed statements can be executed.\n",
    "    \n",
    "    Like any value, a return value can be used as part of an expression."
   ]
  },
  {
   "cell_type": "markdown",
   "metadata": {},
   "source": [
    "Q8. If a function does not have a return statement, what is the return value of a call to that function?\n",
    "\n",
    "Ans:If there is no return statement for a function, its return value is None."
   ]
  },
  {
   "cell_type": "markdown",
   "metadata": {},
   "source": [
    "Q9. How do you make a function variable refer to the global variable?\n",
    "\n",
    "Ans: A global keyword will force a variable in a function to refer to the global variable."
   ]
  },
  {
   "cell_type": "code",
   "execution_count": 5,
   "metadata": {},
   "outputs": [
    {
     "name": "stdout",
     "output_type": "stream",
     "text": [
      "25\n"
     ]
    }
   ],
   "source": [
    "#Example 1: Accessing global Variable From Inside a Function\n",
    "\n",
    "# global variable\n",
    "a = 15\n",
    "b = 10\n",
    " \n",
    "# function to perform addition\n",
    "def add():\n",
    "    c = a + b\n",
    "    print(c)\n",
    " \n",
    " \n",
    "# calling a function\n",
    "add()"
   ]
  },
  {
   "cell_type": "code",
   "execution_count": 6,
   "metadata": {},
   "outputs": [
    {
     "ename": "UnboundLocalError",
     "evalue": "local variable 'a' referenced before assignment",
     "output_type": "error",
     "traceback": [
      "\u001b[0;31m---------------------------------------------------------------------------\u001b[0m",
      "\u001b[0;31mUnboundLocalError\u001b[0m                         Traceback (most recent call last)",
      "\u001b[0;32m<ipython-input-6-b1d41b733241>\u001b[0m in \u001b[0;36m<module>\u001b[0;34m\u001b[0m\n\u001b[1;32m      9\u001b[0m \u001b[0;34m\u001b[0m\u001b[0m\n\u001b[1;32m     10\u001b[0m \u001b[0;34m\u001b[0m\u001b[0m\n\u001b[0;32m---> 11\u001b[0;31m \u001b[0mchange\u001b[0m\u001b[0;34m(\u001b[0m\u001b[0;34m)\u001b[0m\u001b[0;34m\u001b[0m\u001b[0;34m\u001b[0m\u001b[0m\n\u001b[0m",
      "\u001b[0;32m<ipython-input-6-b1d41b733241>\u001b[0m in \u001b[0;36mchange\u001b[0;34m()\u001b[0m\n\u001b[1;32m      4\u001b[0m \u001b[0;32mdef\u001b[0m \u001b[0mchange\u001b[0m\u001b[0;34m(\u001b[0m\u001b[0;34m)\u001b[0m\u001b[0;34m:\u001b[0m\u001b[0;34m\u001b[0m\u001b[0;34m\u001b[0m\u001b[0m\n\u001b[1;32m      5\u001b[0m     \u001b[0;31m# increment value of a by 5\u001b[0m\u001b[0;34m\u001b[0m\u001b[0;34m\u001b[0m\u001b[0;34m\u001b[0m\u001b[0m\n\u001b[0;32m----> 6\u001b[0;31m     \u001b[0mb\u001b[0m \u001b[0;34m=\u001b[0m \u001b[0ma\u001b[0m \u001b[0;34m+\u001b[0m \u001b[0;36m5\u001b[0m\u001b[0;34m\u001b[0m\u001b[0;34m\u001b[0m\u001b[0m\n\u001b[0m\u001b[1;32m      7\u001b[0m     \u001b[0ma\u001b[0m \u001b[0;34m=\u001b[0m \u001b[0mb\u001b[0m\u001b[0;34m\u001b[0m\u001b[0;34m\u001b[0m\u001b[0m\n\u001b[1;32m      8\u001b[0m     \u001b[0mprint\u001b[0m\u001b[0;34m(\u001b[0m\u001b[0ma\u001b[0m\u001b[0;34m)\u001b[0m\u001b[0;34m\u001b[0m\u001b[0;34m\u001b[0m\u001b[0m\n",
      "\u001b[0;31mUnboundLocalError\u001b[0m: local variable 'a' referenced before assignment"
     ]
    }
   ],
   "source": [
    "#Example 2: Modifying Global Variable From Inside the Function\n",
    "\n",
    "a = 15\n",
    " \n",
    "#function to change a global value\n",
    "def change():\n",
    "    # increment value of a by 5\n",
    "    b = a + 5\n",
    "    a = b\n",
    "    print(a)"
   ]
  },
  {
   "cell_type": "code",
   "execution_count": 8,
   "metadata": {},
   "outputs": [
    {
     "name": "stdout",
     "output_type": "stream",
     "text": [
      "Value of x inside a function : 20\n",
      "Value of x outside a function : 20\n"
     ]
    }
   ],
   "source": [
    "#Example 3: Changing Global Variable From Inside a Function using global\n",
    "\n",
    "x = 15\n",
    " \n",
    "def change():\n",
    "    # using a global keyword\n",
    "    global x\n",
    " \n",
    "    # increment value of a by 5\n",
    "    x = x + 5\n",
    "    print(\"Value of x inside a function :\", x)\n",
    " \n",
    " \n",
    "change()\n",
    "print(\"Value of x outside a function :\", x)"
   ]
  },
  {
   "cell_type": "markdown",
   "metadata": {},
   "source": [
    "Q10. What is the data type of None?\n",
    "\n",
    "Ans: The data type of None is NoneType."
   ]
  },
  {
   "cell_type": "markdown",
   "metadata": {},
   "source": [
    "Q11. What does the sentence import areallyourpetsnamederic do?\n",
    "\n",
    "Ans: That import statement imports a module named areallyourpetsnamederic."
   ]
  },
  {
   "cell_type": "markdown",
   "metadata": {},
   "source": [
    "Q12. If you had a bacon() feature in a spam module, what would you call it after importing spam?\n",
    "\n",
    "Ans: This function can be called with spam.bacon()."
   ]
  },
  {
   "cell_type": "markdown",
   "metadata": {},
   "source": [
    "Q13. What can you do to save a program from crashing if it encounters an error?\n",
    "\n",
    "Ans: We place the line of code that might cause an error in a try clause\n"
   ]
  },
  {
   "cell_type": "markdown",
   "metadata": {},
   "source": [
    "Q14. What is the purpose of the try clause? What is the purpose of the except clause?\n",
    "\n",
    "Ans:The code that could potentially cause an error goes in the try clause.\n",
    "    The code that executes if an error happens goes in the except clause.\n",
    "\n"
   ]
  }
 ],
 "metadata": {
  "kernelspec": {
   "display_name": "Python 3",
   "language": "python",
   "name": "python3"
  },
  "language_info": {
   "codemirror_mode": {
    "name": "ipython",
    "version": 3
   },
   "file_extension": ".py",
   "mimetype": "text/x-python",
   "name": "python",
   "nbconvert_exporter": "python",
   "pygments_lexer": "ipython3",
   "version": "3.8.5"
  }
 },
 "nbformat": 4,
 "nbformat_minor": 4
}
